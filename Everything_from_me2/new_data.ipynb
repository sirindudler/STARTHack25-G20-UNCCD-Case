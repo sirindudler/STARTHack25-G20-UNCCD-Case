{
 "cells": [
  {
   "cell_type": "code",
   "execution_count": 5,
   "metadata": {},
   "outputs": [
    {
     "ename": "ValueError",
     "evalue": "found the following matches with the input file in xarray's IO backends: ['netcdf4', 'h5netcdf']. But their dependencies may not be installed, see:\nhttps://docs.xarray.dev/en/stable/user-guide/io.html \nhttps://docs.xarray.dev/en/stable/getting-started-guide/installing.html",
     "output_type": "error",
     "traceback": [
      "\u001b[31m---------------------------------------------------------------------------\u001b[39m",
      "\u001b[31mValueError\u001b[39m                                Traceback (most recent call last)",
      "\u001b[36mCell\u001b[39m\u001b[36m \u001b[39m\u001b[32mIn[5]\u001b[39m\u001b[32m, line 8\u001b[39m\n\u001b[32m      6\u001b[39m \u001b[38;5;66;03m# Load the NetCDF file\u001b[39;00m\n\u001b[32m      7\u001b[39m nc_file = \u001b[33m'\u001b[39m\u001b[33mComplete_TAVG_Daily_LatLong1_2010.nc\u001b[39m\u001b[33m'\u001b[39m  \u001b[38;5;66;03m# Replace with the name of your NetCDF file\u001b[39;00m\n\u001b[32m----> \u001b[39m\u001b[32m8\u001b[39m dataset = \u001b[43mxr\u001b[49m\u001b[43m.\u001b[49m\u001b[43mopen_dataset\u001b[49m\u001b[43m(\u001b[49m\u001b[43mnc_file\u001b[49m\u001b[43m)\u001b[49m\n\u001b[32m     10\u001b[39m sys.exit()\n",
      "\u001b[36mFile \u001b[39m\u001b[32m~/miniforge3/envs/Hack25/lib/python3.13/site-packages/xarray/backends/api.py:668\u001b[39m, in \u001b[36mopen_dataset\u001b[39m\u001b[34m(filename_or_obj, engine, chunks, cache, decode_cf, mask_and_scale, decode_times, decode_timedelta, use_cftime, concat_characters, decode_coords, drop_variables, inline_array, chunked_array_type, from_array_kwargs, backend_kwargs, **kwargs)\u001b[39m\n\u001b[32m    665\u001b[39m     kwargs.update(backend_kwargs)\n\u001b[32m    667\u001b[39m \u001b[38;5;28;01mif\u001b[39;00m engine \u001b[38;5;129;01mis\u001b[39;00m \u001b[38;5;28;01mNone\u001b[39;00m:\n\u001b[32m--> \u001b[39m\u001b[32m668\u001b[39m     engine = \u001b[43mplugins\u001b[49m\u001b[43m.\u001b[49m\u001b[43mguess_engine\u001b[49m\u001b[43m(\u001b[49m\u001b[43mfilename_or_obj\u001b[49m\u001b[43m)\u001b[49m\n\u001b[32m    670\u001b[39m \u001b[38;5;28;01mif\u001b[39;00m from_array_kwargs \u001b[38;5;129;01mis\u001b[39;00m \u001b[38;5;28;01mNone\u001b[39;00m:\n\u001b[32m    671\u001b[39m     from_array_kwargs = {}\n",
      "\u001b[36mFile \u001b[39m\u001b[32m~/miniforge3/envs/Hack25/lib/python3.13/site-packages/xarray/backends/plugins.py:194\u001b[39m, in \u001b[36mguess_engine\u001b[39m\u001b[34m(store_spec)\u001b[39m\n\u001b[32m    186\u001b[39m \u001b[38;5;28;01melse\u001b[39;00m:\n\u001b[32m    187\u001b[39m     error_msg = (\n\u001b[32m    188\u001b[39m         \u001b[33m\"\u001b[39m\u001b[33mfound the following matches with the input file in xarray\u001b[39m\u001b[33m'\u001b[39m\u001b[33ms IO \u001b[39m\u001b[33m\"\u001b[39m\n\u001b[32m    189\u001b[39m         \u001b[33mf\u001b[39m\u001b[33m\"\u001b[39m\u001b[33mbackends: \u001b[39m\u001b[38;5;132;01m{\u001b[39;00mcompatible_engines\u001b[38;5;132;01m}\u001b[39;00m\u001b[33m. But their dependencies may not be installed, see:\u001b[39m\u001b[38;5;130;01m\\n\u001b[39;00m\u001b[33m\"\u001b[39m\n\u001b[32m    190\u001b[39m         \u001b[33m\"\u001b[39m\u001b[33mhttps://docs.xarray.dev/en/stable/user-guide/io.html \u001b[39m\u001b[38;5;130;01m\\n\u001b[39;00m\u001b[33m\"\u001b[39m\n\u001b[32m    191\u001b[39m         \u001b[33m\"\u001b[39m\u001b[33mhttps://docs.xarray.dev/en/stable/getting-started-guide/installing.html\u001b[39m\u001b[33m\"\u001b[39m\n\u001b[32m    192\u001b[39m     )\n\u001b[32m--> \u001b[39m\u001b[32m194\u001b[39m \u001b[38;5;28;01mraise\u001b[39;00m \u001b[38;5;167;01mValueError\u001b[39;00m(error_msg)\n",
      "\u001b[31mValueError\u001b[39m: found the following matches with the input file in xarray's IO backends: ['netcdf4', 'h5netcdf']. But their dependencies may not be installed, see:\nhttps://docs.xarray.dev/en/stable/user-guide/io.html \nhttps://docs.xarray.dev/en/stable/getting-started-guide/installing.html"
     ]
    }
   ],
   "source": [
    "import xarray as xr\n",
    "import rasterio\n",
    "from rasterio.transform import from_bounds\n",
    "import sys\n",
    "\n",
    "# Load the NetCDF file\n",
    "nc_file = 'Complete_TAVG_Daily_LatLong1_2010.nc'  # Replace with the name of your NetCDF file\n",
    "dataset = xr.open_dataset(nc_file)\n",
    "\n",
    "sys.exit()"
   ]
  },
  {
   "cell_type": "code",
   "execution_count": null,
   "metadata": {},
   "outputs": [],
   "source": []
  }
 ],
 "metadata": {
  "kernelspec": {
   "display_name": "Hack25",
   "language": "python",
   "name": "python3"
  },
  "language_info": {
   "codemirror_mode": {
    "name": "ipython",
    "version": 3
   },
   "file_extension": ".py",
   "mimetype": "text/x-python",
   "name": "python",
   "nbconvert_exporter": "python",
   "pygments_lexer": "ipython3",
   "version": "3.13.2"
  }
 },
 "nbformat": 4,
 "nbformat_minor": 2
}
