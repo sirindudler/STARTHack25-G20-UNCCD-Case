{
 "cells": [
  {
   "cell_type": "code",
   "execution_count": 27,
   "metadata": {},
   "outputs": [
    {
     "name": "stdout",
     "output_type": "stream",
     "text": [
      "901\n"
     ]
    }
   ],
   "source": [
    "import ee\n",
    "from osgeo import gdal, osr\n",
    "\n",
    "ee.Authenticate()\n",
    "ee.Initialize(project=\"ee-start-hack-2025\")\n",
    "collection = ee.ImageCollection(\"ECMWF/ERA5_LAND/MONTHLY_AGGR\")\n",
    "\n",
    "count = collection.size().getInfo()\n",
    "print(count)"
   ]
  },
  {
   "cell_type": "code",
   "execution_count": 28,
   "metadata": {},
   "outputs": [],
   "source": [
    "import urllib.request\n",
    "import os"
   ]
  },
  {
   "cell_type": "code",
   "execution_count": 29,
   "metadata": {},
   "outputs": [
    {
     "name": "stdout",
     "output_type": "stream",
     "text": [
      "Native Bounds:\n",
      " xmin: -12.849997509270906, ymin: 15.19905582311569, xmax: -10.651860199739515, ymax: 18.29999952763319\n"
     ]
    }
   ],
   "source": [
    "tif_path = 'temp_diff/Gridded_Population_Density_Data/Assaba_Pop_2020_norm.tif_diff.tif'\n",
    "ds = gdal.Open(tif_path)\n",
    "\n",
    "geo_transform = ds.GetGeoTransform()\n",
    "x_origin    = geo_transform[0]     # top left x-coordinate\n",
    "pixel_width = geo_transform[1]     # pixel width\n",
    "y_origin    = geo_transform[3]     # top left y-coordinate\n",
    "pixel_height= geo_transform[5]     # pixel height (often negative)\n",
    "\n",
    "cols = ds.RasterXSize\n",
    "rows = ds.RasterYSize\n",
    "\n",
    "xmin = x_origin\n",
    "xmax = x_origin + pixel_width * cols\n",
    "ymax = y_origin\n",
    "ymin = y_origin + pixel_height * rows\n",
    "\n",
    "print(f\"Native Bounds:\\n xmin: {xmin}, ymin: {ymin}, xmax: {xmax}, ymax: {ymax}\")"
   ]
  },
  {
   "cell_type": "code",
   "execution_count": 30,
   "metadata": {},
   "outputs": [
    {
     "name": "stdout",
     "output_type": "stream",
     "text": [
      "{'type': 'Polygon', 'coordinates': [[[-12.849997509270906, 15.19905582311569], [-10.651860199739515, 15.19905582311569], [-10.651860199739515, 18.29999952763319], [-12.849997509270906, 18.29999952763319], [-12.849997509270906, 15.19905582311569]]]}\n"
     ]
    }
   ],
   "source": [
    "aoi = ee.Geometry.Rectangle([xmin, ymin, xmax, ymax])\n",
    "print(aoi.getInfo())"
   ]
  },
  {
   "cell_type": "code",
   "execution_count": 31,
   "metadata": {},
   "outputs": [],
   "source": [
    "start_date = '2020-01-01'\n",
    "end_date = '2020-12-31'\n",
    "\n",
    "collection = collection.filterDate(start_date, end_date)\n",
    "count = collection.size().getInfo()\n",
    "\n",
    "image_list = collection.toList(count)"
   ]
  },
  {
   "cell_type": "code",
   "execution_count": 32,
   "metadata": {},
   "outputs": [],
   "source": [
    "download_dir = \"test_dir_earth\"\n",
    "os.makedirs(download_dir, exist_ok=True)"
   ]
  },
  {
   "cell_type": "code",
   "execution_count": 38,
   "metadata": {},
   "outputs": [
    {
     "name": "stdout",
     "output_type": "stream",
     "text": [
      "\n",
      "Exporting image dated 2020_01_01\n",
      "Download URL: https://earthengine.googleapis.com/v1/projects/ee-start-hack-2025/thumbnails/57048941f7b0e7028bbaa1bade9af328-281eed14259dff4f889f3deb3e804073:getPixels\n",
      "Saved file: test_dir_earth/era5_mean_2m_air_temperature_2020_01_01.tif\n",
      "\n",
      "Exporting image dated 2020_02_01\n",
      "Download URL: https://earthengine.googleapis.com/v1/projects/ee-start-hack-2025/thumbnails/59b67fa74259451657236cc5830cf6e0-d16b12b67f31ff8df2a502629b8efd5d:getPixels\n",
      "Saved file: test_dir_earth/era5_mean_2m_air_temperature_2020_02_01.tif\n",
      "\n",
      "Exporting image dated 2020_03_01\n",
      "Download URL: https://earthengine.googleapis.com/v1/projects/ee-start-hack-2025/thumbnails/29fe1ed68bfbfdb61566dc8987a2672b-3b4682d76e6c12f206dd953083094012:getPixels\n",
      "Saved file: test_dir_earth/era5_mean_2m_air_temperature_2020_03_01.tif\n",
      "\n",
      "Exporting image dated 2020_04_01\n",
      "Download URL: https://earthengine.googleapis.com/v1/projects/ee-start-hack-2025/thumbnails/e8119ecffe4afe881be82e6d5f268cb5-3bb7aa7d1209b8e501ff5dd18e090c80:getPixels\n",
      "Saved file: test_dir_earth/era5_mean_2m_air_temperature_2020_04_01.tif\n",
      "\n",
      "Exporting image dated 2020_05_01\n",
      "Download URL: https://earthengine.googleapis.com/v1/projects/ee-start-hack-2025/thumbnails/048ced90f72884cd093fa4030b881635-b902093d5a0fdf43af4c170518e88e0a:getPixels\n",
      "Saved file: test_dir_earth/era5_mean_2m_air_temperature_2020_05_01.tif\n",
      "\n",
      "Exporting image dated 2020_06_01\n",
      "Download URL: https://earthengine.googleapis.com/v1/projects/ee-start-hack-2025/thumbnails/5f1bcb77c552885ec0885fd9d0b2df13-eee9d277c94a3238cdf28bd44d8a1689:getPixels\n",
      "Saved file: test_dir_earth/era5_mean_2m_air_temperature_2020_06_01.tif\n",
      "\n",
      "Exporting image dated 2020_07_01\n",
      "Download URL: https://earthengine.googleapis.com/v1/projects/ee-start-hack-2025/thumbnails/5571d00f1a39ae63de5bcc9cd90eafb6-487a9513aeef83db7556f3accfc5d7b7:getPixels\n",
      "Saved file: test_dir_earth/era5_mean_2m_air_temperature_2020_07_01.tif\n",
      "\n",
      "Exporting image dated 2020_08_01\n",
      "Download URL: https://earthengine.googleapis.com/v1/projects/ee-start-hack-2025/thumbnails/74342ef540037db4f993d1972d19aaea-3be2e28c81db385cd584cd4e0fa00274:getPixels\n",
      "Saved file: test_dir_earth/era5_mean_2m_air_temperature_2020_08_01.tif\n",
      "\n",
      "Exporting image dated 2020_09_01\n",
      "Download URL: https://earthengine.googleapis.com/v1/projects/ee-start-hack-2025/thumbnails/333cbfb6656d374314ebfb2c4d6bd93f-9668e1eb2da355ef50c70cfa1499e8c4:getPixels\n",
      "Saved file: test_dir_earth/era5_mean_2m_air_temperature_2020_09_01.tif\n",
      "\n",
      "Exporting image dated 2020_10_01\n",
      "Download URL: https://earthengine.googleapis.com/v1/projects/ee-start-hack-2025/thumbnails/779d3644f37bf0df70907a37745f29ea-1db4551f45538e7a801a83aa99ba31b1:getPixels\n",
      "Saved file: test_dir_earth/era5_mean_2m_air_temperature_2020_10_01.tif\n",
      "\n",
      "Exporting image dated 2020_11_01\n",
      "Download URL: https://earthengine.googleapis.com/v1/projects/ee-start-hack-2025/thumbnails/64f24734b6542039d84ded32bb7d3d25-5ca4a61309762c63a4da2eed1fa75f4f:getPixels\n",
      "Saved file: test_dir_earth/era5_mean_2m_air_temperature_2020_11_01.tif\n",
      "\n",
      "Exporting image dated 2020_12_01\n",
      "Download URL: https://earthengine.googleapis.com/v1/projects/ee-start-hack-2025/thumbnails/fac4c5c0a9b8c929940ada187a6d7a77-f161460f01c659ec0029dfb49a722781:getPixels\n",
      "Saved file: test_dir_earth/era5_mean_2m_air_temperature_2020_12_01.tif\n"
     ]
    }
   ],
   "source": [
    "# Assume images_list is your ee.List of images and count is its length.\n",
    "for i in range(count):\n",
    "    # Get image i as an ee.Image object.\n",
    "    image = ee.Image(image_list.get(i))\n",
    "    \n",
    "    # Retrieve the date from the image property 'system:time_start' and format it.\n",
    "    time_start = image.get('system:time_start')\n",
    "    date_string = ee.Date(time_start).format('YYYY_MM_dd').getInfo()\n",
    "    \n",
    "    # Construct the local filename with the date included.\n",
    "    file_name = os.path.join(download_dir, f\"era5_mean_2m_air_temperature_{date_string}.tif\")\n",
    "    print(f\"\\nExporting image dated {date_string}\")\n",
    "    \n",
    "    # Define export parameters, plugging in the AOI.\n",
    "    export_params = {\n",
    "        'scale': 10000,              # Pixel resolution in meters; adjust as needed.\n",
    "        'crs': 'EPSG:4326',         # Coordinate reference system.\n",
    "        'region': aoi,              # Your geographic area (AOI) defined above.\n",
    "        'fileFormat': 'GeoTIFF'     # Output file format.\n",
    "    }\n",
    "    \n",
    "    try:\n",
    "        # Get the download URL.\n",
    "        download_url = image.getDownloadURL(export_params)\n",
    "        print(\"Download URL:\", download_url)\n",
    "        \n",
    "        # Download the GeoTIFF from the URL.\n",
    "        urllib.request.urlretrieve(download_url, file_name)\n",
    "        print(f\"Saved file: {file_name}\")\n",
    "    except Exception as e:\n",
    "        print(f\"Failed to export or download image for {date_string}: {e}\")\n"
   ]
  },
  {
   "cell_type": "code",
   "execution_count": 39,
   "metadata": {},
   "outputs": [
    {
     "name": "stderr",
     "output_type": "stream",
     "text": [
      "ERROR 4: `test_dir_earth/era5_mean_2m_air_temperature_2020_01_01.tif' not recognized as being in a supported file format.\n"
     ]
    },
    {
     "ename": "RuntimeError",
     "evalue": "Unable to open the GeoTIFF file.",
     "output_type": "error",
     "traceback": [
      "\u001b[31m---------------------------------------------------------------------------\u001b[39m",
      "\u001b[31mRuntimeError\u001b[39m                              Traceback (most recent call last)",
      "\u001b[36mCell\u001b[39m\u001b[36m \u001b[39m\u001b[32mIn[39]\u001b[39m\u001b[32m, line 15\u001b[39m\n\u001b[32m     13\u001b[39m dataset = gdal.Open(tif_file)\n\u001b[32m     14\u001b[39m \u001b[38;5;28;01mif\u001b[39;00m dataset \u001b[38;5;129;01mis\u001b[39;00m \u001b[38;5;28;01mNone\u001b[39;00m:\n\u001b[32m---> \u001b[39m\u001b[32m15\u001b[39m     \u001b[38;5;28;01mraise\u001b[39;00m \u001b[38;5;167;01mRuntimeError\u001b[39;00m(\u001b[33m\"\u001b[39m\u001b[33mUnable to open the GeoTIFF file.\u001b[39m\u001b[33m\"\u001b[39m)\n\u001b[32m     17\u001b[39m \u001b[38;5;66;03m# Check whether the selected band is within the image's band count.\u001b[39;00m\n\u001b[32m     18\u001b[39m num_bands = dataset.RasterCount\n",
      "\u001b[31mRuntimeError\u001b[39m: Unable to open the GeoTIFF file."
     ]
    }
   ],
   "source": [
    "import os\n",
    "from osgeo import gdal\n",
    "import matplotlib.pyplot as plt\n",
    "import numpy as np\n",
    "\n",
    "# Specify the single GeoTIFF file you want to visualize.\n",
    "tif_file = \"test_dir_earth/era5_mean_2m_air_temperature_2020_01_01.tif\"\n",
    "\n",
    "# Choose the specific band (1-indexed, so band 1 is the first band)\n",
    "specific_band = 'temperature_2m'  # Adjust this number as needed\n",
    "\n",
    "# Open the GeoTIFF using GDAL.\n",
    "dataset = gdal.Open(tif_file)\n",
    "if dataset is None:\n",
    "    raise RuntimeError(\"Unable to open the GeoTIFF file.\")\n",
    "\n",
    "# Check whether the selected band is within the image's band count.\n",
    "num_bands = dataset.RasterCount\n",
    "if specific_band < 1 or specific_band > num_bands:\n",
    "    raise ValueError(f\"Selected band {specific_band} is out of range. This image has only {num_bands} band(s).\")\n",
    "\n",
    "print(f\"Visualizing file '{os.path.basename(tif_file)}', Band {specific_band}\")\n",
    "\n",
    "# Read the specific band data.\n",
    "band = dataset.GetRasterBand(specific_band)\n",
    "arr = band.ReadAsArray()\n",
    "\n",
    "# Optional: Normalize the array for display (improves contrast if pixel values have a wide range)\n",
    "def normalize_array(arr):\n",
    "    arr = arr.astype(np.float32)\n",
    "    p2, p98 = np.percentile(arr, (2, 98))\n",
    "    return np.clip((arr - p2) / (p98 - p2), 0, 1)\n",
    "\n",
    "arr_normalized = normalize_array(arr)\n",
    "\n",
    "# Visualize the specific band.\n",
    "plt.figure(figsize=(8, 6))\n",
    "plt.imshow(arr_normalized, cmap='viridis')  # Choose a cmap, e.g., 'viridis' or 'gray'\n",
    "plt.title(f\"{os.path.basename(tif_file)} - Band {specific_band}\")\n",
    "plt.colorbar(label=\"Pixel value\")\n",
    "plt.axis(\"off\")\n",
    "plt.show()\n"
   ]
  },
  {
   "cell_type": "code",
   "execution_count": 3,
   "metadata": {},
   "outputs": [],
   "source": [
    "start_date = '2010-01-01'\n",
    "end_date = '2010-12-31'\n",
    "collection_filtered = collection.filterDate(start_date, end_date)"
   ]
  },
  {
   "cell_type": "code",
   "execution_count": 4,
   "metadata": {},
   "outputs": [],
   "source": [
    "aoi = ee.Geometry.Rectangle([-12.849997509270906, 15.19999948143959, -10.649997476488352, 18.29999952763319])"
   ]
  },
  {
   "cell_type": "code",
   "execution_count": 5,
   "metadata": {},
   "outputs": [],
   "source": [
    "collection = (ee.ImageCollection('ECMWF/ERA5/MONTHLY')\n",
    "              .filterBounds(aoi)\n",
    "              .filterDate(start_date, end_date)\n",
    "              .select('mean_2m_air_temperature'))  # Select the temperature_2m band"
   ]
  },
  {
   "cell_type": "code",
   "execution_count": 6,
   "metadata": {},
   "outputs": [
    {
     "name": "stdout",
     "output_type": "stream",
     "text": [
      "Number of monthly images found: 12\n"
     ]
    }
   ],
   "source": [
    "count = collection.size().getInfo()\n",
    "print(\"Number of monthly images found:\", count)"
   ]
  },
  {
   "cell_type": "code",
   "execution_count": 7,
   "metadata": {},
   "outputs": [],
   "source": [
    "images_list = collection.toList(count)"
   ]
  },
  {
   "cell_type": "code",
   "execution_count": 8,
   "metadata": {},
   "outputs": [],
   "source": [
    "download_dir = 'era5_downloads'\n",
    "if not os.path.exists(download_dir):\n",
    "    os.makedirs(download_dir)"
   ]
  },
  {
   "cell_type": "code",
   "execution_count": 9,
   "metadata": {},
   "outputs": [
    {
     "name": "stdout",
     "output_type": "stream",
     "text": [
      "\n",
      "Exporting image dated 2010_01_01\n",
      "Download URL: https://earthengine.googleapis.com/v1/projects/ee-start-hack-2025/thumbnails/f47f64ee5662df8bd7d01151e818ab04-ce576f1d0720b6dfb4bcbcb8e2bad806:getPixels\n",
      "Saved file: era5_downloads/era5_mean_2m_air_temperature_2010_01_01.tif\n",
      "\n",
      "Exporting image dated 2010_02_01\n",
      "Download URL: https://earthengine.googleapis.com/v1/projects/ee-start-hack-2025/thumbnails/290b4cc6f9c8f72a9f2666803ec062a2-350946c8bf7c2cc10b2fa0a9b91dc8ba:getPixels\n",
      "Saved file: era5_downloads/era5_mean_2m_air_temperature_2010_02_01.tif\n",
      "\n",
      "Exporting image dated 2010_03_01\n",
      "Download URL: https://earthengine.googleapis.com/v1/projects/ee-start-hack-2025/thumbnails/6e9361f0955afe9e54e629669bf7c8c1-62b45ff227901c8b266832532b0aedeb:getPixels\n",
      "Saved file: era5_downloads/era5_mean_2m_air_temperature_2010_03_01.tif\n",
      "\n",
      "Exporting image dated 2010_04_01\n",
      "Download URL: https://earthengine.googleapis.com/v1/projects/ee-start-hack-2025/thumbnails/4deae7b719811f4cc3828af44371381c-be2220e1dea6f73ac4ab5c426e4414cf:getPixels\n",
      "Saved file: era5_downloads/era5_mean_2m_air_temperature_2010_04_01.tif\n",
      "\n",
      "Exporting image dated 2010_05_01\n",
      "Download URL: https://earthengine.googleapis.com/v1/projects/ee-start-hack-2025/thumbnails/dc8c9fd09ca257d42b8d830f4129e2f1-b7777572d0d79ed2e61c884f85e7d5fb:getPixels\n",
      "Saved file: era5_downloads/era5_mean_2m_air_temperature_2010_05_01.tif\n",
      "\n",
      "Exporting image dated 2010_06_01\n",
      "Download URL: https://earthengine.googleapis.com/v1/projects/ee-start-hack-2025/thumbnails/781ed0ecb8988c6eb40903b9e8ca8954-230926c63fc4c8b1669b0d81e3548296:getPixels\n",
      "Saved file: era5_downloads/era5_mean_2m_air_temperature_2010_06_01.tif\n",
      "\n",
      "Exporting image dated 2010_07_01\n",
      "Download URL: https://earthengine.googleapis.com/v1/projects/ee-start-hack-2025/thumbnails/be5d72f7ded071bf2016b45f5350865f-b1f7661c16946b45d8f6402f135102f5:getPixels\n",
      "Saved file: era5_downloads/era5_mean_2m_air_temperature_2010_07_01.tif\n",
      "\n",
      "Exporting image dated 2010_08_01\n",
      "Download URL: https://earthengine.googleapis.com/v1/projects/ee-start-hack-2025/thumbnails/8a28866108123acb802ba7870e20451b-1e1e82e92729d4a650554627d807a8c6:getPixels\n",
      "Saved file: era5_downloads/era5_mean_2m_air_temperature_2010_08_01.tif\n",
      "\n",
      "Exporting image dated 2010_09_01\n",
      "Download URL: https://earthengine.googleapis.com/v1/projects/ee-start-hack-2025/thumbnails/ec7d0ab2b98c68ebfd8a3539d9cb3281-e7a07a29bbc0b88637daecfa32a9c923:getPixels\n",
      "Saved file: era5_downloads/era5_mean_2m_air_temperature_2010_09_01.tif\n",
      "\n",
      "Exporting image dated 2010_10_01\n",
      "Download URL: https://earthengine.googleapis.com/v1/projects/ee-start-hack-2025/thumbnails/abec55cfdb69912a00cc8ac40bb6b27f-43c7956bd17d25577970344f2f5464ab:getPixels\n",
      "Saved file: era5_downloads/era5_mean_2m_air_temperature_2010_10_01.tif\n",
      "\n",
      "Exporting image dated 2010_11_01\n",
      "Download URL: https://earthengine.googleapis.com/v1/projects/ee-start-hack-2025/thumbnails/479f156e9f2a96672015081850d42f89-be1c70c92753f393c88a1e0cd595f7af:getPixels\n",
      "Saved file: era5_downloads/era5_mean_2m_air_temperature_2010_11_01.tif\n",
      "\n",
      "Exporting image dated 2010_12_01\n",
      "Download URL: https://earthengine.googleapis.com/v1/projects/ee-start-hack-2025/thumbnails/54dd651c896bc5a4db2d29711148d30b-65c852a57f7cb94029cb803760cc2fff:getPixels\n",
      "Saved file: era5_downloads/era5_mean_2m_air_temperature_2010_12_01.tif\n"
     ]
    }
   ],
   "source": [
    "for i in range(count):\n",
    "    # Get image i as an ee.Image object.\n",
    "    image = ee.Image(images_list.get(i))\n",
    "    \n",
    "    # Retrieve the date from the image property 'system:time_start' and format it.\n",
    "    # This property holds the timestamp for the image.\n",
    "    time_start = image.get('system:time_start')\n",
    "    date_string = ee.Date(time_start).format('YYYY_MM_dd').getInfo()\n",
    "    \n",
    "    # Construct the local filename with the date included.\n",
    "    file_name = os.path.join(download_dir, f\"era5_mean_2m_air_temperature_{date_string}.tif\")\n",
    "    print(f\"\\nExporting image dated {date_string}\")\n",
    "    \n",
    "    # Define export parameters.\n",
    "    export_params = {\n",
    "        'scale': 1000,              # Pixel resolution in meters; adjust as needed.\n",
    "        'crs': 'EPSG:4326',         # Coordinate reference system.\n",
    "        'region': aoi,              # Your geographic area (AOI).\n",
    "        'fileFormat': 'GeoTIFF'     # Output file format.\n",
    "    }\n",
    "    \n",
    "    try:\n",
    "        # Get the download URL.\n",
    "        download_url = image.getDownloadURL(export_params)\n",
    "        print(\"Download URL:\", download_url)\n",
    "        \n",
    "        # Download the GeoTIFF from the URL.\n",
    "        urllib.request.urlretrieve(download_url, file_name)\n",
    "        print(f\"Saved file: {file_name}\")\n",
    "    except Exception as e:\n",
    "        print(f\"Failed to export or download image for {date_string}: {e}\")"
   ]
  },
  {
   "cell_type": "code",
   "execution_count": 54,
   "metadata": {},
   "outputs": [],
   "source": [
    "url = \"era5_downloads/era5_mean_2m_air_temperature_2010_01_01.tif\"\n",
    "image = ee.Image(url)"
   ]
  },
  {
   "cell_type": "code",
   "execution_count": 55,
   "metadata": {},
   "outputs": [
    {
     "ename": "EEException",
     "evalue": "Image.load: Image asset 'era5_downloads/era5_mean_2m_air_temperature_2010_01_01.tif' not found (does not exist or caller does not have access).",
     "output_type": "error",
     "traceback": [
      "\u001b[31m---------------------------------------------------------------------------\u001b[39m",
      "\u001b[31mHttpError\u001b[39m                                 Traceback (most recent call last)",
      "\u001b[36mFile \u001b[39m\u001b[32m~/miniforge3/envs/Hack25/lib/python3.13/site-packages/ee/data.py:408\u001b[39m, in \u001b[36m_execute_cloud_call\u001b[39m\u001b[34m(call, num_retries)\u001b[39m\n\u001b[32m    407\u001b[39m \u001b[38;5;28;01mtry\u001b[39;00m:\n\u001b[32m--> \u001b[39m\u001b[32m408\u001b[39m   \u001b[38;5;28;01mreturn\u001b[39;00m \u001b[43mcall\u001b[49m\u001b[43m.\u001b[49m\u001b[43mexecute\u001b[49m\u001b[43m(\u001b[49m\u001b[43mnum_retries\u001b[49m\u001b[43m=\u001b[49m\u001b[43mnum_retries\u001b[49m\u001b[43m)\u001b[49m\n\u001b[32m    409\u001b[39m \u001b[38;5;28;01mexcept\u001b[39;00m googleapiclient.errors.HttpError \u001b[38;5;28;01mas\u001b[39;00m e:\n",
      "\u001b[36mFile \u001b[39m\u001b[32m~/miniforge3/envs/Hack25/lib/python3.13/site-packages/googleapiclient/_helpers.py:130\u001b[39m, in \u001b[36mpositional.<locals>.positional_decorator.<locals>.positional_wrapper\u001b[39m\u001b[34m(*args, **kwargs)\u001b[39m\n\u001b[32m    129\u001b[39m         logger.warning(message)\n\u001b[32m--> \u001b[39m\u001b[32m130\u001b[39m \u001b[38;5;28;01mreturn\u001b[39;00m \u001b[43mwrapped\u001b[49m\u001b[43m(\u001b[49m\u001b[43m*\u001b[49m\u001b[43margs\u001b[49m\u001b[43m,\u001b[49m\u001b[43m \u001b[49m\u001b[43m*\u001b[49m\u001b[43m*\u001b[49m\u001b[43mkwargs\u001b[49m\u001b[43m)\u001b[49m\n",
      "\u001b[36mFile \u001b[39m\u001b[32m~/miniforge3/envs/Hack25/lib/python3.13/site-packages/googleapiclient/http.py:938\u001b[39m, in \u001b[36mHttpRequest.execute\u001b[39m\u001b[34m(self, http, num_retries)\u001b[39m\n\u001b[32m    937\u001b[39m \u001b[38;5;28;01mif\u001b[39;00m resp.status >= \u001b[32m300\u001b[39m:\n\u001b[32m--> \u001b[39m\u001b[32m938\u001b[39m     \u001b[38;5;28;01mraise\u001b[39;00m HttpError(resp, content, uri=\u001b[38;5;28mself\u001b[39m.uri)\n\u001b[32m    939\u001b[39m \u001b[38;5;28;01mreturn\u001b[39;00m \u001b[38;5;28mself\u001b[39m.postproc(resp, content)\n",
      "\u001b[31mHttpError\u001b[39m: <HttpError 400 when requesting https://earthengine.googleapis.com/v1/projects/ee-start-hack-2025/maps?fields=name&alt=json returned \"Image.load: Image asset 'era5_downloads/era5_mean_2m_air_temperature_2010_01_01.tif' not found (does not exist or caller does not have access).\". Details: \"Image.load: Image asset 'era5_downloads/era5_mean_2m_air_temperature_2010_01_01.tif' not found (does not exist or caller does not have access).\">",
      "\nDuring handling of the above exception, another exception occurred:\n",
      "\u001b[31mEEException\u001b[39m                               Traceback (most recent call last)",
      "\u001b[36mCell\u001b[39m\u001b[36m \u001b[39m\u001b[32mIn[55]\u001b[39m\u001b[32m, line 11\u001b[39m\n\u001b[32m      4\u001b[39m vis_params = {\n\u001b[32m      5\u001b[39m     \u001b[33m'\u001b[39m\u001b[33mmin\u001b[39m\u001b[33m'\u001b[39m: \u001b[32m13000\u001b[39m,  \u001b[38;5;66;03m# Minimum value for visualization\u001b[39;00m\n\u001b[32m      6\u001b[39m     \u001b[33m'\u001b[39m\u001b[33mmax\u001b[39m\u001b[33m'\u001b[39m: \u001b[32m16500\u001b[39m,  \u001b[38;5;66;03m# Maximum value for visualization\u001b[39;00m\n\u001b[32m      7\u001b[39m     \u001b[33m'\u001b[39m\u001b[33mpalette\u001b[39m\u001b[33m'\u001b[39m: [\u001b[33m'\u001b[39m\u001b[33mblue\u001b[39m\u001b[33m'\u001b[39m, \u001b[33m'\u001b[39m\u001b[33mgreen\u001b[39m\u001b[33m'\u001b[39m, \u001b[33m'\u001b[39m\u001b[33mred\u001b[39m\u001b[33m'\u001b[39m]  \u001b[38;5;66;03m# Color palette\u001b[39;00m\n\u001b[32m      8\u001b[39m }\n\u001b[32m     10\u001b[39m \u001b[38;5;66;03m# Get a URL for the image tile layer\u001b[39;00m\n\u001b[32m---> \u001b[39m\u001b[32m11\u001b[39m map_id_dict = \u001b[43mimage\u001b[49m\u001b[43m.\u001b[49m\u001b[43mgetMapId\u001b[49m\u001b[43m(\u001b[49m\u001b[43mvis_params\u001b[49m\u001b[43m)\u001b[49m\n\u001b[32m     12\u001b[39m tile_url = map_id_dict[\u001b[33m'\u001b[39m\u001b[33mtile_fetcher\u001b[39m\u001b[33m'\u001b[39m].url_format\n\u001b[32m     14\u001b[39m \u001b[38;5;66;03m# Create a folium map\u001b[39;00m\n",
      "\u001b[36mFile \u001b[39m\u001b[32m~/miniforge3/envs/Hack25/lib/python3.13/site-packages/ee/image.py:156\u001b[39m, in \u001b[36mImage.getMapId\u001b[39m\u001b[34m(self, vis_params)\u001b[39m\n\u001b[32m    154\u001b[39m vis_image, request = \u001b[38;5;28mself\u001b[39m._apply_visualization(vis_params)\n\u001b[32m    155\u001b[39m request[\u001b[33m'\u001b[39m\u001b[33mimage\u001b[39m\u001b[33m'\u001b[39m] = vis_image\n\u001b[32m--> \u001b[39m\u001b[32m156\u001b[39m response = \u001b[43mdata\u001b[49m\u001b[43m.\u001b[49m\u001b[43mgetMapId\u001b[49m\u001b[43m(\u001b[49m\u001b[43mrequest\u001b[49m\u001b[43m)\u001b[49m\n\u001b[32m    157\u001b[39m response[\u001b[33m'\u001b[39m\u001b[33mimage\u001b[39m\u001b[33m'\u001b[39m] = \u001b[38;5;28mself\u001b[39m\n\u001b[32m    158\u001b[39m \u001b[38;5;28;01mreturn\u001b[39;00m response\n",
      "\u001b[36mFile \u001b[39m\u001b[32m~/miniforge3/envs/Hack25/lib/python3.13/site-packages/ee/data.py:750\u001b[39m, in \u001b[36mgetMapId\u001b[39m\u001b[34m(params)\u001b[39m\n\u001b[32m    745\u001b[39m queryParams = {\n\u001b[32m    746\u001b[39m     \u001b[33m'\u001b[39m\u001b[33mfields\u001b[39m\u001b[33m'\u001b[39m: \u001b[33m'\u001b[39m\u001b[33mname\u001b[39m\u001b[33m'\u001b[39m,\n\u001b[32m    747\u001b[39m     \u001b[33m'\u001b[39m\u001b[33mbody\u001b[39m\u001b[33m'\u001b[39m: request,\n\u001b[32m    748\u001b[39m }\n\u001b[32m    749\u001b[39m _maybe_populate_workload_tag(queryParams)\n\u001b[32m--> \u001b[39m\u001b[32m750\u001b[39m result = \u001b[43m_execute_cloud_call\u001b[49m\u001b[43m(\u001b[49m\n\u001b[32m    751\u001b[39m \u001b[43m    \u001b[49m\u001b[43m_get_cloud_projects\u001b[49m\u001b[43m(\u001b[49m\u001b[43m)\u001b[49m\n\u001b[32m    752\u001b[39m \u001b[43m    \u001b[49m\u001b[43m.\u001b[49m\u001b[43mmaps\u001b[49m\u001b[43m(\u001b[49m\u001b[43m)\u001b[49m\n\u001b[32m    753\u001b[39m \u001b[43m    \u001b[49m\u001b[43m.\u001b[49m\u001b[43mcreate\u001b[49m\u001b[43m(\u001b[49m\u001b[43mparent\u001b[49m\u001b[43m=\u001b[49m\u001b[43m_get_projects_path\u001b[49m\u001b[43m(\u001b[49m\u001b[43m)\u001b[49m\u001b[43m,\u001b[49m\u001b[43m \u001b[49m\u001b[43m*\u001b[49m\u001b[43m*\u001b[49m\u001b[43mqueryParams\u001b[49m\u001b[43m)\u001b[49m\n\u001b[32m    754\u001b[39m \u001b[43m\u001b[49m\u001b[43m)\u001b[49m\n\u001b[32m    755\u001b[39m map_name = result[\u001b[33m'\u001b[39m\u001b[33mname\u001b[39m\u001b[33m'\u001b[39m]\n\u001b[32m    756\u001b[39m url_format = \u001b[33m'\u001b[39m\u001b[38;5;132;01m%s\u001b[39;00m\u001b[33m/\u001b[39m\u001b[38;5;132;01m%s\u001b[39;00m\u001b[33m/\u001b[39m\u001b[38;5;132;01m%s\u001b[39;00m\u001b[33m/tiles/\u001b[39m\u001b[38;5;132;01m{z}\u001b[39;00m\u001b[33m/\u001b[39m\u001b[38;5;132;01m{x}\u001b[39;00m\u001b[33m/\u001b[39m\u001b[38;5;132;01m{y}\u001b[39;00m\u001b[33m'\u001b[39m % (\n\u001b[32m    757\u001b[39m     _tile_base_url, _cloud_api_utils.VERSION, map_name)\n",
      "\u001b[36mFile \u001b[39m\u001b[32m~/miniforge3/envs/Hack25/lib/python3.13/site-packages/ee/data.py:410\u001b[39m, in \u001b[36m_execute_cloud_call\u001b[39m\u001b[34m(call, num_retries)\u001b[39m\n\u001b[32m    408\u001b[39m   \u001b[38;5;28;01mreturn\u001b[39;00m call.execute(num_retries=num_retries)\n\u001b[32m    409\u001b[39m \u001b[38;5;28;01mexcept\u001b[39;00m googleapiclient.errors.HttpError \u001b[38;5;28;01mas\u001b[39;00m e:\n\u001b[32m--> \u001b[39m\u001b[32m410\u001b[39m   \u001b[38;5;28;01mraise\u001b[39;00m _translate_cloud_exception(e)\n",
      "\u001b[31mEEException\u001b[39m: Image.load: Image asset 'era5_downloads/era5_mean_2m_air_temperature_2010_01_01.tif' not found (does not exist or caller does not have access)."
     ]
    }
   ],
   "source": [
    "import folium\n",
    "\n",
    "# Define visualization parameters\n",
    "vis_params = {\n",
    "    'min': 13000,  # Minimum value for visualization\n",
    "    'max': 16500,  # Maximum value for visualization\n",
    "    'palette': ['blue', 'green', 'red']  # Color palette\n",
    "}\n",
    "\n",
    "# Get a URL for the image tile layer\n",
    "map_id_dict = image.getMapId(vis_params)\n",
    "tile_url = map_id_dict['tile_fetcher'].url_format\n",
    "\n",
    "# Create a folium map\n",
    "map_center = [0, 0]  # Latitude, Longitude for the map center\n",
    "m = folium.Map(location=map_center, zoom_start=2)\n",
    "\n",
    "# Add the Earth Engine image as a tile layer\n",
    "folium.TileLayer(\n",
    "    tiles=tile_url,\n",
    "    attr='Google Earth Engine',\n",
    "    overlay=True,\n",
    "    name='MODIS LST'\n",
    ").add_to(m)\n",
    "\n",
    "# Add a layer control panel\n",
    "folium.LayerControl().add_to(m)\n",
    "\n",
    "# Display the map\n",
    "m"
   ]
  },
  {
   "cell_type": "code",
   "execution_count": 44,
   "metadata": {},
   "outputs": [
    {
     "ename": "RasterioIOError",
     "evalue": "'downloaded_file.tif' not recognized as a supported file format.",
     "output_type": "error",
     "traceback": [
      "\u001b[31m---------------------------------------------------------------------------\u001b[39m",
      "\u001b[31mCPLE_OpenFailedError\u001b[39m                      Traceback (most recent call last)",
      "\u001b[36mFile \u001b[39m\u001b[32mrasterio/_base.pyx:310\u001b[39m, in \u001b[36mrasterio._base.DatasetBase.__init__\u001b[39m\u001b[34m()\u001b[39m\n",
      "\u001b[36mFile \u001b[39m\u001b[32mrasterio/_base.pyx:221\u001b[39m, in \u001b[36mrasterio._base.open_dataset\u001b[39m\u001b[34m()\u001b[39m\n",
      "\u001b[36mFile \u001b[39m\u001b[32mrasterio/_err.pyx:359\u001b[39m, in \u001b[36mrasterio._err.exc_wrap_pointer\u001b[39m\u001b[34m()\u001b[39m\n",
      "\u001b[31mCPLE_OpenFailedError\u001b[39m: 'downloaded_file.tif' not recognized as a supported file format.",
      "\nDuring handling of the above exception, another exception occurred:\n",
      "\u001b[31mRasterioIOError\u001b[39m                           Traceback (most recent call last)",
      "\u001b[36mCell\u001b[39m\u001b[36m \u001b[39m\u001b[32mIn[44]\u001b[39m\u001b[32m, line 15\u001b[39m\n\u001b[32m     12\u001b[39m     \u001b[38;5;28;01mraise\u001b[39;00m \u001b[38;5;167;01mException\u001b[39;00m(\u001b[33mf\u001b[39m\u001b[33m\"\u001b[39m\u001b[33mFailed to download file: \u001b[39m\u001b[38;5;132;01m{\u001b[39;00mresponse.status_code\u001b[38;5;132;01m}\u001b[39;00m\u001b[33m\"\u001b[39m)\n\u001b[32m     14\u001b[39m \u001b[38;5;66;03m# Open the downloaded file\u001b[39;00m\n\u001b[32m---> \u001b[39m\u001b[32m15\u001b[39m \u001b[38;5;28;01mwith\u001b[39;00m \u001b[43mrasterio\u001b[49m\u001b[43m.\u001b[49m\u001b[43mopen\u001b[49m\u001b[43m(\u001b[49m\u001b[43mlocal_file\u001b[49m\u001b[43m)\u001b[49m \u001b[38;5;28;01mas\u001b[39;00m src:\n\u001b[32m     16\u001b[39m     data = src.read(\u001b[32m1\u001b[39m)\n\u001b[32m     17\u001b[39m     \u001b[38;5;66;03m# Process the data...\u001b[39;00m\n",
      "\u001b[36mFile \u001b[39m\u001b[32m~/miniforge3/envs/Hack25/lib/python3.13/site-packages/rasterio/env.py:463\u001b[39m, in \u001b[36mensure_env_with_credentials.<locals>.wrapper\u001b[39m\u001b[34m(*args, **kwds)\u001b[39m\n\u001b[32m    460\u001b[39m     session = DummySession()\n\u001b[32m    462\u001b[39m \u001b[38;5;28;01mwith\u001b[39;00m env_ctor(session=session):\n\u001b[32m--> \u001b[39m\u001b[32m463\u001b[39m     \u001b[38;5;28;01mreturn\u001b[39;00m \u001b[43mf\u001b[49m\u001b[43m(\u001b[49m\u001b[43m*\u001b[49m\u001b[43margs\u001b[49m\u001b[43m,\u001b[49m\u001b[43m \u001b[49m\u001b[43m*\u001b[49m\u001b[43m*\u001b[49m\u001b[43mkwds\u001b[49m\u001b[43m)\u001b[49m\n",
      "\u001b[36mFile \u001b[39m\u001b[32m~/miniforge3/envs/Hack25/lib/python3.13/site-packages/rasterio/__init__.py:356\u001b[39m, in \u001b[36mopen\u001b[39m\u001b[34m(fp, mode, driver, width, height, count, crs, transform, dtype, nodata, sharing, opener, **kwargs)\u001b[39m\n\u001b[32m    353\u001b[39m     path = _parse_path(raw_dataset_path)\n\u001b[32m    355\u001b[39m \u001b[38;5;28;01mif\u001b[39;00m mode == \u001b[33m\"\u001b[39m\u001b[33mr\u001b[39m\u001b[33m\"\u001b[39m:\n\u001b[32m--> \u001b[39m\u001b[32m356\u001b[39m     dataset = \u001b[43mDatasetReader\u001b[49m\u001b[43m(\u001b[49m\u001b[43mpath\u001b[49m\u001b[43m,\u001b[49m\u001b[43m \u001b[49m\u001b[43mdriver\u001b[49m\u001b[43m=\u001b[49m\u001b[43mdriver\u001b[49m\u001b[43m,\u001b[49m\u001b[43m \u001b[49m\u001b[43msharing\u001b[49m\u001b[43m=\u001b[49m\u001b[43msharing\u001b[49m\u001b[43m,\u001b[49m\u001b[43m \u001b[49m\u001b[43m*\u001b[49m\u001b[43m*\u001b[49m\u001b[43mkwargs\u001b[49m\u001b[43m)\u001b[49m\n\u001b[32m    357\u001b[39m \u001b[38;5;28;01melif\u001b[39;00m mode == \u001b[33m\"\u001b[39m\u001b[33mr+\u001b[39m\u001b[33m\"\u001b[39m:\n\u001b[32m    358\u001b[39m     dataset = get_writer_for_path(path, driver=driver)(\n\u001b[32m    359\u001b[39m         path, mode, driver=driver, sharing=sharing, **kwargs\n\u001b[32m    360\u001b[39m     )\n",
      "\u001b[36mFile \u001b[39m\u001b[32mrasterio/_base.pyx:312\u001b[39m, in \u001b[36mrasterio._base.DatasetBase.__init__\u001b[39m\u001b[34m()\u001b[39m\n",
      "\u001b[31mRasterioIOError\u001b[39m: 'downloaded_file.tif' not recognized as a supported file format."
     ]
    }
   ],
   "source": [
    "import requests\n",
    "import rasterio\n",
    "\n",
    "url = \"https://earthengine.googleapis.com/v1/projects/ee-start-hack-2025/thumbnails/3f06bf1c8e7e32f938a9c689a441f72a-7dc356db53dc2936804427a118019f11:getPixels\"\n",
    "local_file = \"downloaded_file.tif\"\n",
    "\n",
    "response = requests.get(url)\n",
    "if response.status_code == 200:\n",
    "    with open(local_file, \"wb\") as f:\n",
    "        f.write(response.content)\n",
    "else:\n",
    "    raise Exception(f\"Failed to download file: {response.status_code}\")\n",
    "\n",
    "# Open the downloaded file\n",
    "with rasterio.open(local_file) as src:\n",
    "    data = src.read(1)\n",
    "    # Process the data..."
   ]
  },
  {
   "cell_type": "code",
   "execution_count": 38,
   "metadata": {},
   "outputs": [
    {
     "ename": "RasterioIOError",
     "evalue": "'/vsicurl/https://earthengine.googleapis.com/v1/projects/ee-start-hack-2025/thumbnails/3f06bf1c8e7e32f938a9c689a441f72a-7dc356db53dc2936804427a118019f11:getPixels' not recognized as a supported file format.",
     "output_type": "error",
     "traceback": [
      "\u001b[31m---------------------------------------------------------------------------\u001b[39m",
      "\u001b[31mCPLE_OpenFailedError\u001b[39m                      Traceback (most recent call last)",
      "\u001b[36mFile \u001b[39m\u001b[32mrasterio/_base.pyx:310\u001b[39m, in \u001b[36mrasterio._base.DatasetBase.__init__\u001b[39m\u001b[34m()\u001b[39m\n",
      "\u001b[36mFile \u001b[39m\u001b[32mrasterio/_base.pyx:221\u001b[39m, in \u001b[36mrasterio._base.open_dataset\u001b[39m\u001b[34m()\u001b[39m\n",
      "\u001b[36mFile \u001b[39m\u001b[32mrasterio/_err.pyx:359\u001b[39m, in \u001b[36mrasterio._err.exc_wrap_pointer\u001b[39m\u001b[34m()\u001b[39m\n",
      "\u001b[31mCPLE_OpenFailedError\u001b[39m: '/vsicurl/https://earthengine.googleapis.com/v1/projects/ee-start-hack-2025/thumbnails/3f06bf1c8e7e32f938a9c689a441f72a-7dc356db53dc2936804427a118019f11:getPixels' not recognized as a supported file format.",
      "\nDuring handling of the above exception, another exception occurred:\n",
      "\u001b[31mRasterioIOError\u001b[39m                           Traceback (most recent call last)",
      "\u001b[36mCell\u001b[39m\u001b[36m \u001b[39m\u001b[32mIn[38]\u001b[39m\u001b[32m, line 7\u001b[39m\n\u001b[32m      4\u001b[39m \u001b[38;5;28;01mimport\u001b[39;00m\u001b[38;5;250m \u001b[39m\u001b[34;01mmatplotlib\u001b[39;00m\u001b[34;01m.\u001b[39;00m\u001b[34;01mpyplot\u001b[39;00m\u001b[38;5;250m \u001b[39m\u001b[38;5;28;01mas\u001b[39;00m\u001b[38;5;250m \u001b[39m\u001b[34;01mplt\u001b[39;00m\n\u001b[32m      6\u001b[39m \u001b[38;5;66;03m# Open the GeoTIFF file from the URL\u001b[39;00m\n\u001b[32m----> \u001b[39m\u001b[32m7\u001b[39m \u001b[38;5;28;01mwith\u001b[39;00m \u001b[43mrasterio\u001b[49m\u001b[43m.\u001b[49m\u001b[43mopen\u001b[49m\u001b[43m(\u001b[49m\u001b[43mdownload_url\u001b[49m\u001b[43m)\u001b[49m \u001b[38;5;28;01mas\u001b[39;00m src:\n\u001b[32m      8\u001b[39m     \u001b[38;5;66;03m# Read the data\u001b[39;00m\n\u001b[32m      9\u001b[39m     data = src.read(\u001b[32m1\u001b[39m)  \u001b[38;5;66;03m# Read the first band\u001b[39;00m\n\u001b[32m     11\u001b[39m     \u001b[38;5;66;03m# Plot the data\u001b[39;00m\n",
      "\u001b[36mFile \u001b[39m\u001b[32m~/miniforge3/envs/Hack25/lib/python3.13/site-packages/rasterio/env.py:463\u001b[39m, in \u001b[36mensure_env_with_credentials.<locals>.wrapper\u001b[39m\u001b[34m(*args, **kwds)\u001b[39m\n\u001b[32m    460\u001b[39m     session = DummySession()\n\u001b[32m    462\u001b[39m \u001b[38;5;28;01mwith\u001b[39;00m env_ctor(session=session):\n\u001b[32m--> \u001b[39m\u001b[32m463\u001b[39m     \u001b[38;5;28;01mreturn\u001b[39;00m \u001b[43mf\u001b[49m\u001b[43m(\u001b[49m\u001b[43m*\u001b[49m\u001b[43margs\u001b[49m\u001b[43m,\u001b[49m\u001b[43m \u001b[49m\u001b[43m*\u001b[49m\u001b[43m*\u001b[49m\u001b[43mkwds\u001b[49m\u001b[43m)\u001b[49m\n",
      "\u001b[36mFile \u001b[39m\u001b[32m~/miniforge3/envs/Hack25/lib/python3.13/site-packages/rasterio/__init__.py:356\u001b[39m, in \u001b[36mopen\u001b[39m\u001b[34m(fp, mode, driver, width, height, count, crs, transform, dtype, nodata, sharing, opener, **kwargs)\u001b[39m\n\u001b[32m    353\u001b[39m     path = _parse_path(raw_dataset_path)\n\u001b[32m    355\u001b[39m \u001b[38;5;28;01mif\u001b[39;00m mode == \u001b[33m\"\u001b[39m\u001b[33mr\u001b[39m\u001b[33m\"\u001b[39m:\n\u001b[32m--> \u001b[39m\u001b[32m356\u001b[39m     dataset = \u001b[43mDatasetReader\u001b[49m\u001b[43m(\u001b[49m\u001b[43mpath\u001b[49m\u001b[43m,\u001b[49m\u001b[43m \u001b[49m\u001b[43mdriver\u001b[49m\u001b[43m=\u001b[49m\u001b[43mdriver\u001b[49m\u001b[43m,\u001b[49m\u001b[43m \u001b[49m\u001b[43msharing\u001b[49m\u001b[43m=\u001b[49m\u001b[43msharing\u001b[49m\u001b[43m,\u001b[49m\u001b[43m \u001b[49m\u001b[43m*\u001b[49m\u001b[43m*\u001b[49m\u001b[43mkwargs\u001b[49m\u001b[43m)\u001b[49m\n\u001b[32m    357\u001b[39m \u001b[38;5;28;01melif\u001b[39;00m mode == \u001b[33m\"\u001b[39m\u001b[33mr+\u001b[39m\u001b[33m\"\u001b[39m:\n\u001b[32m    358\u001b[39m     dataset = get_writer_for_path(path, driver=driver)(\n\u001b[32m    359\u001b[39m         path, mode, driver=driver, sharing=sharing, **kwargs\n\u001b[32m    360\u001b[39m     )\n",
      "\u001b[36mFile \u001b[39m\u001b[32mrasterio/_base.pyx:312\u001b[39m, in \u001b[36mrasterio._base.DatasetBase.__init__\u001b[39m\u001b[34m()\u001b[39m\n",
      "\u001b[31mRasterioIOError\u001b[39m: '/vsicurl/https://earthengine.googleapis.com/v1/projects/ee-start-hack-2025/thumbnails/3f06bf1c8e7e32f938a9c689a441f72a-7dc356db53dc2936804427a118019f11:getPixels' not recognized as a supported file format."
     ]
    }
   ],
   "source": [
    "import rasterio\n",
    "from rasterio.plot import show\n",
    "\n",
    "import matplotlib.pyplot as plt\n",
    "\n",
    "# Open the GeoTIFF file from the URL\n",
    "with rasterio.open(download_url) as src:\n",
    "    # Read the data\n",
    "    data = src.read(1)  # Read the first band\n",
    "\n",
    "    # Plot the data\n",
    "    plt.figure(figsize=(10, 8))\n",
    "    show(data, transform=src.transform, cmap='viridis')\n",
    "    plt.title('Mean 2m Air Temperature')\n",
    "    plt.colorbar(plt.cm.ScalarMappable(cmap='viridis'), label='Temperature (K)')\n",
    "    plt.show()"
   ]
  },
  {
   "cell_type": "code",
   "execution_count": 39,
   "metadata": {},
   "outputs": [
    {
     "name": "stderr",
     "output_type": "stream",
     "text": [
      "/root/miniforge3/envs/Hack25/lib/python3.13/site-packages/osgeo/gdal.py:311: FutureWarning: Neither gdal.UseExceptions() nor gdal.DontUseExceptions() has been explicitly called. In GDAL 4.0, exceptions will be enabled by default.\n",
      "  warnings.warn(\n",
      "ERROR 4: era5_downloads/era5_temperature_2m_2021_01_01.tif: No such file or directory\n"
     ]
    },
    {
     "ename": "Exception",
     "evalue": "Failed to load the GeoTIFF file.",
     "output_type": "error",
     "traceback": [
      "\u001b[31m---------------------------------------------------------------------------\u001b[39m",
      "\u001b[31mException\u001b[39m                                 Traceback (most recent call last)",
      "\u001b[36mCell\u001b[39m\u001b[36m \u001b[39m\u001b[32mIn[39]\u001b[39m\u001b[32m, line 6\u001b[39m\n\u001b[32m      4\u001b[39m dataset = gdal.Open(\u001b[33m'\u001b[39m\u001b[33mera5_downloads/era5_temperature_2m_2021_01_01.tif\u001b[39m\u001b[33m'\u001b[39m)\n\u001b[32m      5\u001b[39m \u001b[38;5;28;01mif\u001b[39;00m dataset \u001b[38;5;129;01mis\u001b[39;00m \u001b[38;5;28;01mNone\u001b[39;00m:\n\u001b[32m----> \u001b[39m\u001b[32m6\u001b[39m     \u001b[38;5;28;01mraise\u001b[39;00m \u001b[38;5;167;01mException\u001b[39;00m(\u001b[33m\"\u001b[39m\u001b[33mFailed to load the GeoTIFF file.\u001b[39m\u001b[33m\"\u001b[39m)\n\u001b[32m      8\u001b[39m \u001b[38;5;66;03m# Retrieve basic information.\u001b[39;00m\n\u001b[32m      9\u001b[39m cols = dataset.RasterXSize\n",
      "\u001b[31mException\u001b[39m: Failed to load the GeoTIFF file."
     ]
    }
   ],
   "source": [
    "from osgeo import gdal\n",
    "\n",
    "# Open one of the downloaded GeoTIFF files.\n",
    "dataset = gdal.Open('era5_downloads/era5_temperature_2m_2021_01_01.tif')\n",
    "if dataset is None:\n",
    "    raise Exception(\"Failed to load the GeoTIFF file.\")\n",
    "\n",
    "# Retrieve basic information.\n",
    "cols = dataset.RasterXSize\n",
    "rows = dataset.RasterYSize\n",
    "geotransform = dataset.GetGeoTransform()\n",
    "projection = dataset.GetProjection()\n",
    "\n",
    "print(\"Raster dimensions:\", cols, \"columns x\", rows, \"rows\")\n",
    "print(\"GeoTransform:\", geotransform)\n",
    "print(\"Projection:\", projection)\n",
    "\n",
    "# Read the first band into an array.\n",
    "band = dataset.GetRasterBand(1)\n",
    "data_array = band.ReadAsArray()\n",
    "\n",
    "print(\"Data type:\", data_array.dtype)\n",
    "print(\"Data shape:\", data_array.shape)"
   ]
  },
  {
   "cell_type": "code",
   "execution_count": null,
   "metadata": {},
   "outputs": [],
   "source": []
  }
 ],
 "metadata": {
  "kernelspec": {
   "display_name": "Hack25",
   "language": "python",
   "name": "python3"
  },
  "language_info": {
   "codemirror_mode": {
    "name": "ipython",
    "version": 3
   },
   "file_extension": ".py",
   "mimetype": "text/x-python",
   "name": "python",
   "nbconvert_exporter": "python",
   "pygments_lexer": "ipython3",
   "version": "3.13.2"
  }
 },
 "nbformat": 4,
 "nbformat_minor": 2
}
